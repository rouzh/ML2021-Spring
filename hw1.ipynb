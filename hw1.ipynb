{
 "cells": [
  {
   "cell_type": "markdown",
   "id": "4d086ba3",
   "metadata": {
    "id": "view-in-github",
    "papermill": {
     "duration": 0.007135,
     "end_time": "2023-11-06T09:10:07.765613",
     "exception": false,
     "start_time": "2023-11-06T09:10:07.758478",
     "status": "completed"
    },
    "tags": []
   },
   "source": [
    "<a href=\"https://colab.research.google.com/github/ga642381/ML2021-Spring/blob/main/HW01/HW01.ipynb\" target=\"_parent\"><img src=\"https://colab.research.google.com/assets/colab-badge.svg\" alt=\"Open In Colab\"/></a>"
   ]
  },
  {
   "cell_type": "markdown",
   "id": "f9284e6c",
   "metadata": {
    "id": "mz0_QVkxCrX3",
    "papermill": {
     "duration": 0.005914,
     "end_time": "2023-11-06T09:10:07.777832",
     "exception": false,
     "start_time": "2023-11-06T09:10:07.771918",
     "status": "completed"
    },
    "tags": []
   },
   "source": [
    "# **Homework 1: COVID-19 Cases Prediction (Regression)**"
   ]
  },
  {
   "cell_type": "markdown",
   "id": "1931c76c",
   "metadata": {
    "id": "ZeZnPAiwDRWG",
    "papermill": {
     "duration": 0.005868,
     "end_time": "2023-11-06T09:10:07.789691",
     "exception": false,
     "start_time": "2023-11-06T09:10:07.783823",
     "status": "completed"
    },
    "tags": []
   },
   "source": [
    "Author: Heng-Jui Chang\n",
    "\n",
    "Slides: https://github.com/ga642381/ML2021-Spring/blob/main/HW01/HW01.pdf  \n",
    "Videos (Mandarin): https://cool.ntu.edu.tw/courses/4793/modules/items/172854  \n",
    "https://cool.ntu.edu.tw/courses/4793/modules/items/172853  \n",
    "Video (English): https://cool.ntu.edu.tw/courses/4793/modules/items/176529\n",
    "\n",
    "\n",
    "Objectives:\n",
    "* Solve a regression problem with deep neural networks (DNN).\n",
    "* Understand basic DNN training tips.\n",
    "* Get familiar with PyTorch.\n",
    "\n",
    "If any questions, please contact the TAs via TA hours, NTU COOL, or email.\n"
   ]
  },
  {
   "cell_type": "markdown",
   "id": "f1542de6",
   "metadata": {
    "id": "Jx3x1nDkG-Uy",
    "papermill": {
     "duration": 0.005839,
     "end_time": "2023-11-06T09:10:07.801472",
     "exception": false,
     "start_time": "2023-11-06T09:10:07.795633",
     "status": "completed"
    },
    "tags": []
   },
   "source": [
    "# **Download Data**\n",
    "\n",
    "\n",
    "If the Google drive links are dead, you can download data from [kaggle](https://www.kaggle.com/c/ml2021spring-hw1/data), and upload data manually to the workspace."
   ]
  },
  {
   "cell_type": "code",
   "execution_count": 1,
   "id": "98b78875",
   "metadata": {
    "execution": {
     "iopub.execute_input": "2023-11-06T09:10:07.816089Z",
     "iopub.status.busy": "2023-11-06T09:10:07.815010Z",
     "iopub.status.idle": "2023-11-06T09:10:07.824452Z",
     "shell.execute_reply": "2023-11-06T09:10:07.823568Z"
    },
    "id": "tMj55YDKG6ch",
    "outputId": "fc40ecc9-4756-48b1-d5c6-c169a8b453b2",
    "papermill": {
     "duration": 0.018805,
     "end_time": "2023-11-06T09:10:07.826242",
     "exception": false,
     "start_time": "2023-11-06T09:10:07.807437",
     "status": "completed"
    },
    "tags": []
   },
   "outputs": [],
   "source": [
    "path = '/kaggle/input/ml2021spring-hw1/'\n",
    "tr_path = path + 'covid.train.csv'  # path to training data\n",
    "tt_path = path + 'covid.test.csv'   # path to testing data\n",
    "\n",
    "#!gdown --id '19CCyCgJrUxtvgZF53vnctJiOJ23T5mqF' --output covid.train.csv\n",
    "#!gdown --id '1CE240jLm2npU-tdz81-oVKEF3T2yfT1O' --output covid.test.csv"
   ]
  },
  {
   "cell_type": "markdown",
   "id": "ecb37032",
   "metadata": {
    "id": "wS_4-77xHk44",
    "papermill": {
     "duration": 0.005847,
     "end_time": "2023-11-06T09:10:07.838089",
     "exception": false,
     "start_time": "2023-11-06T09:10:07.832242",
     "status": "completed"
    },
    "tags": []
   },
   "source": [
    "# **Import Some Packages**"
   ]
  },
  {
   "cell_type": "code",
   "execution_count": 2,
   "id": "f18e1ac4",
   "metadata": {
    "execution": {
     "iopub.execute_input": "2023-11-06T09:10:07.852269Z",
     "iopub.status.busy": "2023-11-06T09:10:07.851196Z",
     "iopub.status.idle": "2023-11-06T09:10:10.751725Z",
     "shell.execute_reply": "2023-11-06T09:10:10.750595Z"
    },
    "id": "k-onQd4JNA5H",
    "papermill": {
     "duration": 2.910514,
     "end_time": "2023-11-06T09:10:10.754494",
     "exception": false,
     "start_time": "2023-11-06T09:10:07.843980",
     "status": "completed"
    },
    "tags": []
   },
   "outputs": [],
   "source": [
    "# PyTorch\n",
    "import torch\n",
    "import torch.nn as nn\n",
    "from torch.utils.data import Dataset, DataLoader\n",
    "\n",
    "# For data preprocess\n",
    "import numpy as np\n",
    "import csv\n",
    "import os\n",
    "\n",
    "# For plotting\n",
    "import matplotlib.pyplot as plt\n",
    "from matplotlib.pyplot import figure\n",
    "\n",
    "myseed = 42069  # set a random seed for reproducibility\n",
    "torch.backends.cudnn.deterministic = True\n",
    "torch.backends.cudnn.benchmark = False\n",
    "np.random.seed(myseed)\n",
    "torch.manual_seed(myseed)\n",
    "if torch.cuda.is_available():\n",
    "    torch.cuda.manual_seed_all(myseed)"
   ]
  },
  {
   "cell_type": "markdown",
   "id": "a9f008a6",
   "metadata": {
    "id": "BtE3b6JEH7rw",
    "papermill": {
     "duration": 0.006629,
     "end_time": "2023-11-06T09:10:10.768313",
     "exception": false,
     "start_time": "2023-11-06T09:10:10.761684",
     "status": "completed"
    },
    "tags": []
   },
   "source": [
    "# **Some Utilities**\n",
    "\n",
    "You do not need to modify this part."
   ]
  },
  {
   "cell_type": "code",
   "execution_count": 3,
   "id": "83d4907d",
   "metadata": {
    "execution": {
     "iopub.execute_input": "2023-11-06T09:10:10.783217Z",
     "iopub.status.busy": "2023-11-06T09:10:10.782577Z",
     "iopub.status.idle": "2023-11-06T09:10:10.794524Z",
     "shell.execute_reply": "2023-11-06T09:10:10.793737Z"
    },
    "id": "FWMT3uf1NGQp",
    "papermill": {
     "duration": 0.021828,
     "end_time": "2023-11-06T09:10:10.796428",
     "exception": false,
     "start_time": "2023-11-06T09:10:10.774600",
     "status": "completed"
    },
    "tags": []
   },
   "outputs": [],
   "source": [
    "def get_device():\n",
    "    ''' Get device (if GPU is available, use GPU) '''\n",
    "    return 'cuda' if torch.cuda.is_available() else 'cpu'\n",
    "\n",
    "def plot_learning_curve(loss_record, title=''):\n",
    "    ''' Plot learning curve of your DNN (train & dev loss) '''\n",
    "    total_steps = len(loss_record['train'])\n",
    "    x_1 = range(total_steps)\n",
    "    x_2 = x_1[::len(loss_record['train']) // len(loss_record['dev'])]\n",
    "    figure(figsize=(6, 4))\n",
    "    plt.plot(x_1, loss_record['train'], c='tab:red', label='train')\n",
    "    plt.plot(x_2, loss_record['dev'], c='tab:cyan', label='dev')\n",
    "    plt.ylim(0.0, 5.)\n",
    "    plt.xlabel('Training steps')\n",
    "    plt.ylabel('MSE loss')\n",
    "    plt.title('Learning curve of {}'.format(title))\n",
    "    plt.legend()\n",
    "    plt.show()\n",
    "\n",
    "\n",
    "def plot_pred(dv_set, model, device, lim=35., preds=None, targets=None):\n",
    "    ''' Plot prediction of your DNN '''\n",
    "    if preds is None or targets is None:\n",
    "        model.eval()\n",
    "        preds, targets = [], []\n",
    "        for x, y in dv_set:\n",
    "            x, y = x.to(device), y.to(device)\n",
    "            with torch.no_grad():\n",
    "                pred = model(x)\n",
    "                preds.append(pred.detach().cpu())\n",
    "                targets.append(y.detach().cpu())\n",
    "        preds = torch.cat(preds, dim=0).numpy()\n",
    "        targets = torch.cat(targets, dim=0).numpy()\n",
    "\n",
    "    figure(figsize=(5, 5))\n",
    "    plt.scatter(targets, preds, c='r', alpha=0.5)\n",
    "    plt.plot([-0.2, lim], [-0.2, lim], c='b')\n",
    "    plt.xlim(-0.2, lim)\n",
    "    plt.ylim(-0.2, lim)\n",
    "    plt.xlabel('ground truth value')\n",
    "    plt.ylabel('predicted value')\n",
    "    plt.title('Ground Truth v.s. Prediction')\n",
    "    plt.show()"
   ]
  },
  {
   "cell_type": "markdown",
   "id": "0ae37b5b",
   "metadata": {
    "id": "39U_XFX6KOoj",
    "papermill": {
     "duration": 0.006192,
     "end_time": "2023-11-06T09:10:10.809810",
     "exception": false,
     "start_time": "2023-11-06T09:10:10.803618",
     "status": "completed"
    },
    "tags": []
   },
   "source": [
    "# **Preprocess**\n",
    "\n",
    "We have three kinds of datasets:\n",
    "* `train`: for training\n",
    "* `dev`: for validation\n",
    "* `test`: for testing (w/o target value)"
   ]
  },
  {
   "cell_type": "markdown",
   "id": "19e16717",
   "metadata": {
    "id": "TQ-MdwpLL7Dt",
    "papermill": {
     "duration": 0.006058,
     "end_time": "2023-11-06T09:10:10.822281",
     "exception": false,
     "start_time": "2023-11-06T09:10:10.816223",
     "status": "completed"
    },
    "tags": []
   },
   "source": [
    "## **Dataset**\n",
    "\n",
    "The `COVID19Dataset` below does:\n",
    "* read `.csv` files\n",
    "* extract features\n",
    "* split `covid.train.csv` into train/dev sets\n",
    "* normalize features\n",
    "\n",
    "Finishing `TODO` below might make you pass medium baseline."
   ]
  },
  {
   "cell_type": "code",
   "execution_count": 4,
   "id": "d0fffb4b",
   "metadata": {
    "execution": {
     "iopub.execute_input": "2023-11-06T09:10:10.836448Z",
     "iopub.status.busy": "2023-11-06T09:10:10.835867Z",
     "iopub.status.idle": "2023-11-06T09:10:10.846678Z",
     "shell.execute_reply": "2023-11-06T09:10:10.846081Z"
    },
    "id": "0zlpIp9ANJRU",
    "papermill": {
     "duration": 0.020067,
     "end_time": "2023-11-06T09:10:10.848392",
     "exception": false,
     "start_time": "2023-11-06T09:10:10.828325",
     "status": "completed"
    },
    "tags": []
   },
   "outputs": [],
   "source": [
    "class COVID19Dataset(Dataset):\n",
    "    ''' Dataset for loading and preprocessing the COVID19 dataset '''\n",
    "    def __init__(self,\n",
    "                 path,\n",
    "                 mode='train',\n",
    "                 target_only=False):\n",
    "        self.mode = mode\n",
    "\n",
    "        # Read data into numpy arrays\n",
    "        with open(path, 'r') as fp:\n",
    "            data = list(csv.reader(fp))\n",
    "            data = np.array(data[1:])[:, 1:].astype(float)\n",
    "        \n",
    "        if not target_only:\n",
    "            feats = list(range(93))\n",
    "        else:\n",
    "            # TODO: Using 40 states & 2 tested_positive features (indices = 57 & 75)\n",
    "            feats = list(range(40))\n",
    "            feats.append(57)\n",
    "            feats.append(75)\n",
    "\n",
    "        if mode == 'test':\n",
    "            # Testing data\n",
    "            # data: 893 x 93 (40 states + day 1 (18) + day 2 (18) + day 3 (17))\n",
    "            data = data[:, feats]\n",
    "            self.data = torch.FloatTensor(data)\n",
    "        else:\n",
    "            # Training data (train/dev sets)\n",
    "            # data: 2700 x 94 (40 states + day 1 (18) + day 2 (18) + day 3 (18))\n",
    "            target = data[:, -1]\n",
    "            data = data[:, feats]\n",
    "            \n",
    "            # Splitting training data into train & dev sets\n",
    "            if mode == 'train':\n",
    "                indices = [i for i in range(len(data)) if i % 10 != 0]\n",
    "            elif mode == 'dev':\n",
    "                indices = [i for i in range(len(data)) if i % 10 == 0]\n",
    "            \n",
    "            # Convert data into PyTorch tensors\n",
    "            self.data = torch.FloatTensor(data[indices])\n",
    "            self.target = torch.FloatTensor(target[indices])\n",
    "\n",
    "        # Normalize features (you may remove this part to see what will happen)\n",
    "        self.data[:, 40:] = \\\n",
    "            (self.data[:, 40:] - self.data[:, 40:].mean(dim=0, keepdim=True)) \\\n",
    "            / self.data[:, 40:].std(dim=0, keepdim=True)\n",
    "\n",
    "        self.dim = self.data.shape[1]\n",
    "\n",
    "        print('Finished reading the {} set of COVID19 Dataset ({} samples found, each dim = {})'\n",
    "              .format(mode, len(self.data), self.dim))\n",
    "\n",
    "    def __getitem__(self, index):\n",
    "        # Returns one sample at a time\n",
    "        if self.mode in ['train', 'dev']:\n",
    "            # For training\n",
    "            return self.data[index], self.target[index]\n",
    "        else:\n",
    "            # For testing (no target)\n",
    "            return self.data[index]\n",
    "\n",
    "    def __len__(self):\n",
    "        # Returns the size of the dataset\n",
    "        return len(self.data)"
   ]
  },
  {
   "cell_type": "markdown",
   "id": "bbc541a0",
   "metadata": {
    "id": "AlhTlkE7MDo3",
    "papermill": {
     "duration": 0.005836,
     "end_time": "2023-11-06T09:10:10.860698",
     "exception": false,
     "start_time": "2023-11-06T09:10:10.854862",
     "status": "completed"
    },
    "tags": []
   },
   "source": [
    "## **DataLoader**\n",
    "\n",
    "A `DataLoader` loads data from a given `Dataset` into batches.\n"
   ]
  },
  {
   "cell_type": "code",
   "execution_count": 5,
   "id": "5889cdb3",
   "metadata": {
    "execution": {
     "iopub.execute_input": "2023-11-06T09:10:10.874154Z",
     "iopub.status.busy": "2023-11-06T09:10:10.873832Z",
     "iopub.status.idle": "2023-11-06T09:10:10.878712Z",
     "shell.execute_reply": "2023-11-06T09:10:10.877964Z"
    },
    "id": "hlhLk5t6MBX3",
    "papermill": {
     "duration": 0.013682,
     "end_time": "2023-11-06T09:10:10.880382",
     "exception": false,
     "start_time": "2023-11-06T09:10:10.866700",
     "status": "completed"
    },
    "tags": []
   },
   "outputs": [],
   "source": [
    "def prep_dataloader(path, mode, batch_size, n_jobs=0, target_only=False):\n",
    "    ''' Generates a dataset, then is put into a dataloader. '''\n",
    "    dataset = COVID19Dataset(path, mode=mode, target_only=target_only)  # Construct dataset\n",
    "    dataloader = DataLoader(\n",
    "        dataset, batch_size,\n",
    "        shuffle=(mode == 'train'), drop_last=False,\n",
    "        num_workers=n_jobs, pin_memory=True)                            # Construct dataloader\n",
    "    return dataloader"
   ]
  },
  {
   "cell_type": "markdown",
   "id": "57b9af3d",
   "metadata": {
    "id": "SGuycwR0MeQB",
    "papermill": {
     "duration": 0.005881,
     "end_time": "2023-11-06T09:10:10.892425",
     "exception": false,
     "start_time": "2023-11-06T09:10:10.886544",
     "status": "completed"
    },
    "tags": []
   },
   "source": [
    "# **Deep Neural Network**\n",
    "\n",
    "`NeuralNet` is an `nn.Module` designed for regression.\n",
    "The DNN consists of 2 fully-connected layers with ReLU activation.\n",
    "This module also included a function `cal_loss` for calculating loss.\n"
   ]
  },
  {
   "cell_type": "code",
   "execution_count": 6,
   "id": "d99ecb78",
   "metadata": {
    "execution": {
     "iopub.execute_input": "2023-11-06T09:10:10.905984Z",
     "iopub.status.busy": "2023-11-06T09:10:10.905536Z",
     "iopub.status.idle": "2023-11-06T09:10:10.911375Z",
     "shell.execute_reply": "2023-11-06T09:10:10.910582Z"
    },
    "id": "49-uXYovOAI0",
    "papermill": {
     "duration": 0.014421,
     "end_time": "2023-11-06T09:10:10.912976",
     "exception": false,
     "start_time": "2023-11-06T09:10:10.898555",
     "status": "completed"
    },
    "tags": []
   },
   "outputs": [],
   "source": [
    "class NeuralNet(nn.Module):\n",
    "    ''' A simple fully-connected deep neural network '''\n",
    "    def __init__(self, input_dim):\n",
    "        super(NeuralNet, self).__init__()\n",
    "\n",
    "        # Define your neural network here\n",
    "        # TODO: How to modify this model to achieve better performance?\n",
    "        self.net = nn.Sequential(\n",
    "            nn.Linear(input_dim, 64),\n",
    "            nn.ReLU(),\n",
    "            nn.Linear(64, 1)\n",
    "        )\n",
    "\n",
    "        # Mean squared error loss\n",
    "        self.criterion = nn.MSELoss(reduction='mean')\n",
    "\n",
    "    def forward(self, x):\n",
    "        ''' Given input of size (batch_size x input_dim), compute output of the network '''\n",
    "        return self.net(x).squeeze(1)\n",
    "\n",
    "    def cal_loss(self, pred, target):\n",
    "        ''' Calculate loss '''\n",
    "        # TODO: you may implement L1/L2 regularization here\n",
    "        return self.criterion(pred, target)"
   ]
  },
  {
   "cell_type": "markdown",
   "id": "86a72598",
   "metadata": {
    "id": "DvFWVjZ5Nvga",
    "papermill": {
     "duration": 0.005827,
     "end_time": "2023-11-06T09:10:10.924808",
     "exception": false,
     "start_time": "2023-11-06T09:10:10.918981",
     "status": "completed"
    },
    "tags": []
   },
   "source": [
    "# **Train/Dev/Test**"
   ]
  },
  {
   "cell_type": "markdown",
   "id": "975a9ef0",
   "metadata": {
    "id": "MAM8QecJOyqn",
    "papermill": {
     "duration": 0.005753,
     "end_time": "2023-11-06T09:10:10.936427",
     "exception": false,
     "start_time": "2023-11-06T09:10:10.930674",
     "status": "completed"
    },
    "tags": []
   },
   "source": [
    "## **Training**"
   ]
  },
  {
   "cell_type": "code",
   "execution_count": 7,
   "id": "647cfe80",
   "metadata": {
    "execution": {
     "iopub.execute_input": "2023-11-06T09:10:10.949876Z",
     "iopub.status.busy": "2023-11-06T09:10:10.949571Z",
     "iopub.status.idle": "2023-11-06T09:10:10.959212Z",
     "shell.execute_reply": "2023-11-06T09:10:10.958096Z"
    },
    "id": "lOqcmYzMO7jB",
    "papermill": {
     "duration": 0.018576,
     "end_time": "2023-11-06T09:10:10.961009",
     "exception": false,
     "start_time": "2023-11-06T09:10:10.942433",
     "status": "completed"
    },
    "tags": []
   },
   "outputs": [],
   "source": [
    "def train(tr_set, dv_set, model, config, device):\n",
    "    ''' DNN training '''\n",
    "\n",
    "    n_epochs = config['n_epochs']  # Maximum number of epochs\n",
    "\n",
    "    # Setup optimizer\n",
    "    optimizer = getattr(torch.optim, config['optimizer'])(\n",
    "        model.parameters(), **config['optim_hparas'])\n",
    "\n",
    "    min_mse = 1000.\n",
    "    loss_record = {'train': [], 'dev': []}      # for recording training loss\n",
    "    early_stop_cnt = 0\n",
    "    epoch = 0\n",
    "    while epoch < n_epochs:\n",
    "        model.train()                           # set model to training mode\n",
    "        for x, y in tr_set:                     # iterate through the dataloader\n",
    "            optimizer.zero_grad()               # set gradient to zero\n",
    "            x, y = x.to(device), y.to(device)   # move data to device (cpu/cuda)\n",
    "            pred = model(x)                     # forward pass (compute output)\n",
    "            mse_loss = model.cal_loss(pred, y)  # compute loss\n",
    "            mse_loss.backward()                 # compute gradient (backpropagation)\n",
    "            optimizer.step()                    # update model with optimizer\n",
    "            loss_record['train'].append(mse_loss.detach().cpu().item())\n",
    "\n",
    "        # After each epoch, test your model on the validation (development) set.\n",
    "        dev_mse = dev(dv_set, model, device)\n",
    "        if dev_mse < min_mse:\n",
    "            # Save model if your model improved\n",
    "            min_mse = dev_mse\n",
    "            print('Saving model (epoch = {:4d}, loss = {:.4f})'\n",
    "                .format(epoch + 1, min_mse))\n",
    "            torch.save(model.state_dict(), config['save_path'])  # Save model to specified path\n",
    "            early_stop_cnt = 0\n",
    "        else:\n",
    "            early_stop_cnt += 1\n",
    "\n",
    "        epoch += 1\n",
    "        loss_record['dev'].append(dev_mse)\n",
    "        if early_stop_cnt > config['early_stop']:\n",
    "            # Stop training if your model stops improving for \"config['early_stop']\" epochs.\n",
    "            break\n",
    "\n",
    "    print('Finished training after {} epochs'.format(epoch))\n",
    "    return min_mse, loss_record"
   ]
  },
  {
   "cell_type": "markdown",
   "id": "3527f713",
   "metadata": {
    "id": "0hSd4Bn3O2PL",
    "papermill": {
     "duration": 0.006091,
     "end_time": "2023-11-06T09:10:10.973115",
     "exception": false,
     "start_time": "2023-11-06T09:10:10.967024",
     "status": "completed"
    },
    "tags": []
   },
   "source": [
    "## **Validation**"
   ]
  },
  {
   "cell_type": "code",
   "execution_count": 8,
   "id": "b7a73098",
   "metadata": {
    "execution": {
     "iopub.execute_input": "2023-11-06T09:10:10.987166Z",
     "iopub.status.busy": "2023-11-06T09:10:10.986717Z",
     "iopub.status.idle": "2023-11-06T09:10:10.992817Z",
     "shell.execute_reply": "2023-11-06T09:10:10.991935Z"
    },
    "id": "yrxrD3YsN3U2",
    "papermill": {
     "duration": 0.015522,
     "end_time": "2023-11-06T09:10:10.994505",
     "exception": false,
     "start_time": "2023-11-06T09:10:10.978983",
     "status": "completed"
    },
    "tags": []
   },
   "outputs": [],
   "source": [
    "def dev(dv_set, model, device):\n",
    "    model.eval()                                # set model to evalutation mode\n",
    "    total_loss = 0\n",
    "    for x, y in dv_set:                         # iterate through the dataloader\n",
    "        x, y = x.to(device), y.to(device)       # move data to device (cpu/cuda)\n",
    "        with torch.no_grad():                   # disable gradient calculation\n",
    "            pred = model(x)                     # forward pass (compute output)\n",
    "            mse_loss = model.cal_loss(pred, y)  # compute loss\n",
    "        total_loss += mse_loss.detach().cpu().item() * len(x)  # accumulate loss\n",
    "    total_loss = total_loss / len(dv_set.dataset)              # compute averaged loss\n",
    "\n",
    "    return total_loss"
   ]
  },
  {
   "cell_type": "markdown",
   "id": "c22069ad",
   "metadata": {
    "id": "g0pdrhQAO41L",
    "papermill": {
     "duration": 0.005726,
     "end_time": "2023-11-06T09:10:11.006276",
     "exception": false,
     "start_time": "2023-11-06T09:10:11.000550",
     "status": "completed"
    },
    "tags": []
   },
   "source": [
    "## **Testing**"
   ]
  },
  {
   "cell_type": "code",
   "execution_count": 9,
   "id": "b45a6f71",
   "metadata": {
    "execution": {
     "iopub.execute_input": "2023-11-06T09:10:11.019641Z",
     "iopub.status.busy": "2023-11-06T09:10:11.019368Z",
     "iopub.status.idle": "2023-11-06T09:10:11.024479Z",
     "shell.execute_reply": "2023-11-06T09:10:11.023619Z"
    },
    "id": "aSBMRFlYN5tB",
    "papermill": {
     "duration": 0.014021,
     "end_time": "2023-11-06T09:10:11.026224",
     "exception": false,
     "start_time": "2023-11-06T09:10:11.012203",
     "status": "completed"
    },
    "tags": []
   },
   "outputs": [],
   "source": [
    "def test(tt_set, model, device):\n",
    "    model.eval()                                # set model to evalutation mode\n",
    "    preds = []\n",
    "    for x in tt_set:                            # iterate through the dataloader\n",
    "        x = x.to(device)                        # move data to device (cpu/cuda)\n",
    "        with torch.no_grad():                   # disable gradient calculation\n",
    "            pred = model(x)                     # forward pass (compute output)\n",
    "            preds.append(pred.detach().cpu())   # collect prediction\n",
    "    preds = torch.cat(preds, dim=0).numpy()     # concatenate all predictions and convert to a numpy array\n",
    "    return preds"
   ]
  },
  {
   "cell_type": "markdown",
   "id": "5ef37f37",
   "metadata": {
    "id": "SvckkF5dvf0j",
    "papermill": {
     "duration": 0.00594,
     "end_time": "2023-11-06T09:10:11.039457",
     "exception": false,
     "start_time": "2023-11-06T09:10:11.033517",
     "status": "completed"
    },
    "tags": []
   },
   "source": [
    "# **Setup Hyper-parameters**\n",
    "\n",
    "`config` contains hyper-parameters for training and the path to save your model."
   ]
  },
  {
   "cell_type": "code",
   "execution_count": 10,
   "id": "0382ffe5",
   "metadata": {
    "execution": {
     "iopub.execute_input": "2023-11-06T09:10:11.053781Z",
     "iopub.status.busy": "2023-11-06T09:10:11.053332Z",
     "iopub.status.idle": "2023-11-06T09:10:11.059307Z",
     "shell.execute_reply": "2023-11-06T09:10:11.058447Z"
    },
    "id": "NPXpdumwPjE7",
    "papermill": {
     "duration": 0.015487,
     "end_time": "2023-11-06T09:10:11.061144",
     "exception": false,
     "start_time": "2023-11-06T09:10:11.045657",
     "status": "completed"
    },
    "tags": []
   },
   "outputs": [],
   "source": [
    "device = get_device()                 # get the current available device ('cpu' or 'cuda')\n",
    "os.makedirs('models', exist_ok=True)  # The trained model will be saved to ./models/\n",
    "target_only = True                   # TODO: Using 40 states & 2 tested_positive features\n",
    "\n",
    "# TODO: How to tune these hyper-parameters to improve your model's performance?\n",
    "config = {\n",
    "    'n_epochs': 3000,                # maximum number of epochs\n",
    "    'batch_size': 270,               # mini-batch size for dataloader\n",
    "    'optimizer': 'SGD',              # optimization algorithm (optimizer in torch.optim)\n",
    "    'optim_hparas': {                # hyper-parameters for the optimizer (depends on which optimizer you are using)\n",
    "        'lr': 0.001,                 # learning rate of SGD\n",
    "        'momentum': 0.9              # momentum for SGD\n",
    "    },\n",
    "    'early_stop': 200,               # early stopping epochs (the number epochs since your model's last improvement)\n",
    "    'save_path': 'models/model.pth'  # your model will be saved here\n",
    "}"
   ]
  },
  {
   "cell_type": "markdown",
   "id": "f82fbd48",
   "metadata": {
    "id": "6j1eOV3TOH-j",
    "papermill": {
     "duration": 0.006218,
     "end_time": "2023-11-06T09:10:11.074461",
     "exception": false,
     "start_time": "2023-11-06T09:10:11.068243",
     "status": "completed"
    },
    "tags": []
   },
   "source": [
    "# **Load data and model**"
   ]
  },
  {
   "cell_type": "code",
   "execution_count": 11,
   "id": "c15fca1b",
   "metadata": {
    "execution": {
     "iopub.execute_input": "2023-11-06T09:10:11.088621Z",
     "iopub.status.busy": "2023-11-06T09:10:11.088178Z",
     "iopub.status.idle": "2023-11-06T09:10:11.536215Z",
     "shell.execute_reply": "2023-11-06T09:10:11.535439Z"
    },
    "id": "eNrYBMmePLKm",
    "outputId": "fcd4f175-4f7e-4306-f33c-5f8285f11dce",
    "papermill": {
     "duration": 0.458243,
     "end_time": "2023-11-06T09:10:11.538854",
     "exception": false,
     "start_time": "2023-11-06T09:10:11.080611",
     "status": "completed"
    },
    "tags": []
   },
   "outputs": [
    {
     "name": "stdout",
     "output_type": "stream",
     "text": [
      "Finished reading the train set of COVID19 Dataset (2430 samples found, each dim = 42)\n",
      "Finished reading the dev set of COVID19 Dataset (270 samples found, each dim = 42)\n",
      "Finished reading the test set of COVID19 Dataset (893 samples found, each dim = 42)\n"
     ]
    }
   ],
   "source": [
    "tr_set = prep_dataloader(tr_path, 'train', config['batch_size'], target_only=target_only)\n",
    "dv_set = prep_dataloader(tr_path, 'dev', config['batch_size'], target_only=target_only)\n",
    "tt_set = prep_dataloader(tt_path, 'test', config['batch_size'], target_only=target_only)"
   ]
  },
  {
   "cell_type": "code",
   "execution_count": 12,
   "id": "d73d41ff",
   "metadata": {
    "execution": {
     "iopub.execute_input": "2023-11-06T09:10:11.553813Z",
     "iopub.status.busy": "2023-11-06T09:10:11.553493Z",
     "iopub.status.idle": "2023-11-06T09:10:11.566586Z",
     "shell.execute_reply": "2023-11-06T09:10:11.565537Z"
    },
    "id": "FHylSirLP9oh",
    "papermill": {
     "duration": 0.022803,
     "end_time": "2023-11-06T09:10:11.568656",
     "exception": false,
     "start_time": "2023-11-06T09:10:11.545853",
     "status": "completed"
    },
    "tags": []
   },
   "outputs": [],
   "source": [
    "model = NeuralNet(tr_set.dataset.dim).to(device)  # Construct model and move to device"
   ]
  },
  {
   "cell_type": "markdown",
   "id": "dbbd9454",
   "metadata": {
    "id": "sX2B_zgSOPTJ",
    "papermill": {
     "duration": 0.006545,
     "end_time": "2023-11-06T09:10:11.582269",
     "exception": false,
     "start_time": "2023-11-06T09:10:11.575724",
     "status": "completed"
    },
    "tags": []
   },
   "source": [
    "# **Start Training!**"
   ]
  },
  {
   "cell_type": "code",
   "execution_count": 13,
   "id": "b5d0541f",
   "metadata": {
    "execution": {
     "iopub.execute_input": "2023-11-06T09:10:11.597055Z",
     "iopub.status.busy": "2023-11-06T09:10:11.596181Z",
     "iopub.status.idle": "2023-11-06T09:10:21.173254Z",
     "shell.execute_reply": "2023-11-06T09:10:21.171147Z"
    },
    "id": "GrEbUxazQAAZ",
    "outputId": "f4f3bd74-2d97-4275-b69f-6609976b91f9",
    "papermill": {
     "duration": 9.586348,
     "end_time": "2023-11-06T09:10:21.175079",
     "exception": false,
     "start_time": "2023-11-06T09:10:11.588731",
     "status": "completed"
    },
    "tags": []
   },
   "outputs": [
    {
     "name": "stdout",
     "output_type": "stream",
     "text": [
      "Saving model (epoch =    1, loss = 245.3677)\n",
      "Saving model (epoch =    2, loss = 11.7495)\n",
      "Saving model (epoch =    5, loss = 5.7278)\n",
      "Saving model (epoch =    6, loss = 2.0373)\n",
      "Saving model (epoch =    8, loss = 1.9835)\n",
      "Saving model (epoch =    9, loss = 1.5859)\n",
      "Saving model (epoch =   10, loss = 1.4324)\n",
      "Saving model (epoch =   11, loss = 1.4101)\n",
      "Saving model (epoch =   12, loss = 1.3867)\n",
      "Saving model (epoch =   13, loss = 1.3410)\n",
      "Saving model (epoch =   14, loss = 1.3171)\n",
      "Saving model (epoch =   15, loss = 1.3015)\n",
      "Saving model (epoch =   16, loss = 1.2795)\n",
      "Saving model (epoch =   17, loss = 1.2627)\n",
      "Saving model (epoch =   18, loss = 1.2477)\n",
      "Saving model (epoch =   19, loss = 1.2380)\n",
      "Saving model (epoch =   20, loss = 1.2171)\n",
      "Saving model (epoch =   21, loss = 1.2057)\n",
      "Saving model (epoch =   22, loss = 1.1992)\n",
      "Saving model (epoch =   23, loss = 1.1864)\n",
      "Saving model (epoch =   24, loss = 1.1777)\n",
      "Saving model (epoch =   25, loss = 1.1683)\n",
      "Saving model (epoch =   26, loss = 1.1589)\n",
      "Saving model (epoch =   27, loss = 1.1482)\n",
      "Saving model (epoch =   28, loss = 1.1435)\n",
      "Saving model (epoch =   29, loss = 1.1391)\n",
      "Saving model (epoch =   30, loss = 1.1283)\n",
      "Saving model (epoch =   31, loss = 1.1272)\n",
      "Saving model (epoch =   32, loss = 1.1163)\n",
      "Saving model (epoch =   33, loss = 1.1138)\n",
      "Saving model (epoch =   34, loss = 1.1051)\n",
      "Saving model (epoch =   36, loss = 1.0977)\n",
      "Saving model (epoch =   37, loss = 1.0939)\n",
      "Saving model (epoch =   38, loss = 1.0923)\n",
      "Saving model (epoch =   39, loss = 1.0798)\n",
      "Saving model (epoch =   41, loss = 1.0762)\n",
      "Saving model (epoch =   42, loss = 1.0748)\n",
      "Saving model (epoch =   43, loss = 1.0704)\n",
      "Saving model (epoch =   44, loss = 1.0636)\n",
      "Saving model (epoch =   45, loss = 1.0609)\n",
      "Saving model (epoch =   47, loss = 1.0604)\n",
      "Saving model (epoch =   48, loss = 1.0523)\n",
      "Saving model (epoch =   49, loss = 1.0523)\n",
      "Saving model (epoch =   50, loss = 1.0465)\n",
      "Saving model (epoch =   52, loss = 1.0465)\n",
      "Saving model (epoch =   53, loss = 1.0416)\n",
      "Saving model (epoch =   54, loss = 1.0398)\n",
      "Saving model (epoch =   55, loss = 1.0382)\n",
      "Saving model (epoch =   57, loss = 1.0334)\n",
      "Saving model (epoch =   58, loss = 1.0284)\n",
      "Saving model (epoch =   60, loss = 1.0283)\n",
      "Saving model (epoch =   61, loss = 1.0253)\n",
      "Saving model (epoch =   63, loss = 1.0223)\n",
      "Saving model (epoch =   64, loss = 1.0192)\n",
      "Saving model (epoch =   67, loss = 1.0152)\n",
      "Saving model (epoch =   70, loss = 1.0100)\n",
      "Saving model (epoch =   72, loss = 1.0095)\n",
      "Saving model (epoch =   74, loss = 1.0057)\n",
      "Saving model (epoch =   77, loss = 1.0051)\n",
      "Saving model (epoch =   78, loss = 1.0019)\n",
      "Saving model (epoch =   81, loss = 0.9988)\n",
      "Saving model (epoch =   82, loss = 0.9982)\n",
      "Saving model (epoch =   84, loss = 0.9961)\n",
      "Saving model (epoch =   85, loss = 0.9947)\n",
      "Saving model (epoch =   88, loss = 0.9902)\n",
      "Saving model (epoch =   91, loss = 0.9899)\n",
      "Saving model (epoch =   93, loss = 0.9893)\n",
      "Saving model (epoch =   95, loss = 0.9876)\n",
      "Saving model (epoch =   98, loss = 0.9833)\n",
      "Saving model (epoch =  108, loss = 0.9819)\n",
      "Saving model (epoch =  109, loss = 0.9819)\n",
      "Saving model (epoch =  111, loss = 0.9812)\n",
      "Saving model (epoch =  115, loss = 0.9773)\n",
      "Saving model (epoch =  122, loss = 0.9741)\n",
      "Saving model (epoch =  126, loss = 0.9733)\n",
      "Saving model (epoch =  132, loss = 0.9714)\n",
      "Saving model (epoch =  136, loss = 0.9707)\n",
      "Saving model (epoch =  150, loss = 0.9705)\n",
      "Saving model (epoch =  153, loss = 0.9680)\n",
      "Saving model (epoch =  165, loss = 0.9670)\n",
      "Saving model (epoch =  167, loss = 0.9650)\n",
      "Saving model (epoch =  204, loss = 0.9627)\n",
      "Saving model (epoch =  220, loss = 0.9620)\n",
      "Saving model (epoch =  280, loss = 0.9617)\n",
      "Saving model (epoch =  318, loss = 0.9614)\n",
      "Finished training after 519 epochs\n"
     ]
    }
   ],
   "source": [
    "model_loss, model_loss_record = train(tr_set, dv_set, model, config, device)"
   ]
  },
  {
   "cell_type": "code",
   "execution_count": 14,
   "id": "dc55a5e0",
   "metadata": {
    "execution": {
     "iopub.execute_input": "2023-11-06T09:10:21.192489Z",
     "iopub.status.busy": "2023-11-06T09:10:21.191990Z",
     "iopub.status.idle": "2023-11-06T09:10:21.410192Z",
     "shell.execute_reply": "2023-11-06T09:10:21.408880Z"
    },
    "id": "hsNO9nnXQBvP",
    "outputId": "1626def6-94c7-4a87-9447-d939f827c8eb",
    "papermill": {
     "duration": 0.229521,
     "end_time": "2023-11-06T09:10:21.412629",
     "exception": false,
     "start_time": "2023-11-06T09:10:21.183108",
     "status": "completed"
    },
    "tags": []
   },
   "outputs": [
    {
     "data": {
      "image/png": "[encoded data removed]",
      "text/plain": [
       "<Figure size 600x400 with 1 Axes>"
      ]
     },
     "metadata": {},
     "output_type": "display_data"
    }
   ],
   "source": [
    "plot_learning_curve(model_loss_record, title='deep model')"
   ]
  },
  {
   "cell_type": "code",
   "execution_count": 15,
   "id": "51ea4da2",
   "metadata": {
    "execution": {
     "iopub.execute_input": "2023-11-06T09:10:21.433144Z",
     "iopub.status.busy": "2023-11-06T09:10:21.432821Z",
     "iopub.status.idle": "2023-11-06T09:10:21.628557Z",
     "shell.execute_reply": "2023-11-06T09:10:21.627151Z"
    },
    "id": "3iZTVn5WQFpX",
    "outputId": "a2d5e118-559d-45c6-b644-6792af54663d",
    "papermill": {
     "duration": 0.208519,
     "end_time": "2023-11-06T09:10:21.630440",
     "exception": false,
     "start_time": "2023-11-06T09:10:21.421921",
     "status": "completed"
    },
    "tags": []
   },
   "outputs": [
    {
     "data": {
      "image/png": "[encoded data removed]",
      "text/plain": [
       "<Figure size 500x500 with 1 Axes>"
      ]
     },
     "metadata": {},
     "output_type": "display_data"
    }
   ],
   "source": [
    "del model\n",
    "model = NeuralNet(tr_set.dataset.dim).to(device)\n",
    "ckpt = torch.load(config['save_path'], map_location='cpu')  # Load your best model\n",
    "model.load_state_dict(ckpt)\n",
    "plot_pred(dv_set, model, device)  # Show prediction on the validation set"
   ]
  },
  {
   "cell_type": "markdown",
   "id": "77b1a6ad",
   "metadata": {
    "id": "aQikz3IPiyPf",
    "papermill": {
     "duration": 0.007826,
     "end_time": "2023-11-06T09:10:21.646803",
     "exception": false,
     "start_time": "2023-11-06T09:10:21.638977",
     "status": "completed"
    },
    "tags": []
   },
   "source": [
    "# **Testing**\n",
    "The predictions of your model on testing set will be stored at `pred.csv`."
   ]
  },
  {
   "cell_type": "code",
   "execution_count": 16,
   "id": "578c60d5",
   "metadata": {
    "execution": {
     "iopub.execute_input": "2023-11-06T09:10:21.719207Z",
     "iopub.status.busy": "2023-11-06T09:10:21.718306Z",
     "iopub.status.idle": "2023-11-06T09:10:21.738127Z",
     "shell.execute_reply": "2023-11-06T09:10:21.736965Z"
    },
    "id": "O8cTuQjQQOon",
    "outputId": "6bc5de07-4c5a-4e87-9ae3-d09f539c5f2c",
    "papermill": {
     "duration": 0.032815,
     "end_time": "2023-11-06T09:10:21.741327",
     "exception": false,
     "start_time": "2023-11-06T09:10:21.708512",
     "status": "completed"
    },
    "tags": []
   },
   "outputs": [
    {
     "name": "stdout",
     "output_type": "stream",
     "text": [
      "Saving results to pred.csv\n"
     ]
    }
   ],
   "source": [
    "def save_pred(preds, file):\n",
    "    ''' Save predictions to specified file '''\n",
    "    print('Saving results to {}'.format(file))\n",
    "    with open(file, 'w') as fp:\n",
    "        writer = csv.writer(fp)\n",
    "        writer.writerow(['id', 'tested_positive'])\n",
    "        for i, p in enumerate(preds):\n",
    "            writer.writerow([i, p])\n",
    "\n",
    "preds = test(tt_set, model, device)  # predict COVID-19 cases with your model\n",
    "save_pred(preds, 'pred.csv')         # save prediction file to pred.csv"
   ]
  },
  {
   "cell_type": "markdown",
   "id": "2d45cc66",
   "metadata": {
    "id": "nfrVxqJanGpE",
    "papermill": {
     "duration": 0.010347,
     "end_time": "2023-11-06T09:10:21.762739",
     "exception": false,
     "start_time": "2023-11-06T09:10:21.752392",
     "status": "completed"
    },
    "tags": []
   },
   "source": [
    "# **Hints**\n",
    "\n",
    "## **Simple Baseline**\n",
    "* Run sample code\n",
    "\n",
    "## **Medium Baseline**\n",
    "* Feature selection: 40 states + 2 `tested_positive` (`TODO` in dataset)\n",
    "\n",
    "## **Strong Baseline**\n",
    "* Feature selection (what other features are useful?)\n",
    "* DNN architecture (layers? dimension? activation function?)\n",
    "* Training (mini-batch? optimizer? learning rate?)\n",
    "* L2 regularization\n",
    "* There are some mistakes in the sample code, can you find them?"
   ]
  },
  {
   "cell_type": "markdown",
   "id": "a019c764",
   "metadata": {
    "id": "9tmCwXgpot3t",
    "papermill": {
     "duration": 0.009447,
     "end_time": "2023-11-06T09:10:21.782807",
     "exception": false,
     "start_time": "2023-11-06T09:10:21.773360",
     "status": "completed"
    },
    "tags": []
   },
   "source": [
    "# **Reference**\n",
    "This code is completely written by Heng-Jui Chang @ NTUEE.  \n",
    "Copying or reusing this code is required to specify the original author. \n",
    "\n",
    "E.g.  \n",
    "Source: Heng-Jui Chang @ NTUEE (https://github.com/ga642381/ML2021-Spring/blob/main/HW01/HW01.ipynb)\n"
   ]
  }
 ],
 "metadata": {
  "kernelspec": {
   "display_name": "Python 3",
   "language": "python",
   "name": "python3"
  },
  "language_info": {
   "codemirror_mode": {
    "name": "ipython",
    "version": 3
   },
   "file_extension": ".py",
   "mimetype": "text/x-python",
   "name": "python",
   "nbconvert_exporter": "python",
   "pygments_lexer": "ipython3",
   "version": "3.10.12"
  },
  "papermill": {
   "default_parameters": {},
   "duration": 17.622618,
   "end_time": "2023-11-06T09:10:22.613427",
   "environment_variables": {},
   "exception": null,
   "input_path": "__notebook__.ipynb",
   "output_path": "__notebook__.ipynb",
   "parameters": {},
   "start_time": "2023-11-06T09:10:04.990809",
   "version": "2.4.0"
  }
 },
 "nbformat": 4,
 "nbformat_minor": 5
}
