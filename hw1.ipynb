{
 "cells": [
  {
   "cell_type": "markdown",
   "id": "775bb38c",
   "metadata": {
    "id": "view-in-github",
    "papermill": {
     "duration": 0.008133,
     "end_time": "2023-11-06T08:42:12.867215",
     "exception": false,
     "start_time": "2023-11-06T08:42:12.859082",
     "status": "completed"
    },
    "tags": []
   },
   "source": [
    "<a href=\"https://colab.research.google.com/github/ga642381/ML2021-Spring/blob/main/HW01/HW01.ipynb\" target=\"_parent\"><img src=\"https://colab.research.google.com/assets/colab-badge.svg\" alt=\"Open In Colab\"/></a>"
   ]
  },
  {
   "cell_type": "markdown",
   "id": "82ffcd23",
   "metadata": {
    "id": "mz0_QVkxCrX3",
    "papermill": {
     "duration": 0.007065,
     "end_time": "2023-11-06T08:42:12.882062",
     "exception": false,
     "start_time": "2023-11-06T08:42:12.874997",
     "status": "completed"
    },
    "tags": []
   },
   "source": [
    "# **Homework 1: COVID-19 Cases Prediction (Regression)**"
   ]
  },
  {
   "cell_type": "markdown",
   "id": "7016a786",
   "metadata": {
    "id": "ZeZnPAiwDRWG",
    "papermill": {
     "duration": 0.006995,
     "end_time": "2023-11-06T08:42:12.896249",
     "exception": false,
     "start_time": "2023-11-06T08:42:12.889254",
     "status": "completed"
    },
    "tags": []
   },
   "source": [
    "Author: Heng-Jui Chang\n",
    "\n",
    "Slides: https://github.com/ga642381/ML2021-Spring/blob/main/HW01/HW01.pdf  \n",
    "Videos (Mandarin): https://cool.ntu.edu.tw/courses/4793/modules/items/172854  \n",
    "https://cool.ntu.edu.tw/courses/4793/modules/items/172853  \n",
    "Video (English): https://cool.ntu.edu.tw/courses/4793/modules/items/176529\n",
    "\n",
    "\n",
    "Objectives:\n",
    "* Solve a regression problem with deep neural networks (DNN).\n",
    "* Understand basic DNN training tips.\n",
    "* Get familiar with PyTorch.\n",
    "\n",
    "If any questions, please contact the TAs via TA hours, NTU COOL, or email.\n"
   ]
  },
  {
   "cell_type": "markdown",
   "id": "f1199f35",
   "metadata": {
    "id": "Jx3x1nDkG-Uy",
    "papermill": {
     "duration": 0.006972,
     "end_time": "2023-11-06T08:42:12.910393",
     "exception": false,
     "start_time": "2023-11-06T08:42:12.903421",
     "status": "completed"
    },
    "tags": []
   },
   "source": [
    "# **Download Data**\n",
    "\n",
    "\n",
    "If the Google drive links are dead, you can download data from [kaggle](https://www.kaggle.com/c/ml2021spring-hw1/data), and upload data manually to the workspace."
   ]
  },
  {
   "cell_type": "code",
   "execution_count": 1,
   "id": "5e63dd17",
   "metadata": {
    "execution": {
     "iopub.execute_input": "2023-11-06T08:42:12.926899Z",
     "iopub.status.busy": "2023-11-06T08:42:12.926407Z",
     "iopub.status.idle": "2023-11-06T08:42:12.936186Z",
     "shell.execute_reply": "2023-11-06T08:42:12.935370Z"
    },
    "id": "tMj55YDKG6ch",
    "outputId": "fc40ecc9-4756-48b1-d5c6-c169a8b453b2",
    "papermill": {
     "duration": 0.02071,
     "end_time": "2023-11-06T08:42:12.938238",
     "exception": false,
     "start_time": "2023-11-06T08:42:12.917528",
     "status": "completed"
    },
    "tags": []
   },
   "outputs": [],
   "source": [
    "path = '/kaggle/input/ml2021spring-hw1/'\n",
    "tr_path = path + 'covid.train.csv'  # path to training data\n",
    "tt_path = path + 'covid.test.csv'   # path to testing data\n",
    "\n",
    "#!gdown --id '19CCyCgJrUxtvgZF53vnctJiOJ23T5mqF' --output covid.train.csv\n",
    "#!gdown --id '1CE240jLm2npU-tdz81-oVKEF3T2yfT1O' --output covid.test.csv"
   ]
  },
  {
   "cell_type": "markdown",
   "id": "e2b72c5d",
   "metadata": {
    "id": "wS_4-77xHk44",
    "papermill": {
     "duration": 0.007609,
     "end_time": "2023-11-06T08:42:12.953475",
     "exception": false,
     "start_time": "2023-11-06T08:42:12.945866",
     "status": "completed"
    },
    "tags": []
   },
   "source": [
    "# **Import Some Packages**"
   ]
  },
  {
   "cell_type": "code",
   "execution_count": 2,
   "id": "bc5cea60",
   "metadata": {
    "execution": {
     "iopub.execute_input": "2023-11-06T08:42:12.972432Z",
     "iopub.status.busy": "2023-11-06T08:42:12.971984Z",
     "iopub.status.idle": "2023-11-06T08:42:16.058857Z",
     "shell.execute_reply": "2023-11-06T08:42:16.057721Z"
    },
    "id": "k-onQd4JNA5H",
    "papermill": {
     "duration": 3.099083,
     "end_time": "2023-11-06T08:42:16.061888",
     "exception": false,
     "start_time": "2023-11-06T08:42:12.962805",
     "status": "completed"
    },
    "tags": []
   },
   "outputs": [],
   "source": [
    "# PyTorch\n",
    "import torch\n",
    "import torch.nn as nn\n",
    "from torch.utils.data import Dataset, DataLoader\n",
    "\n",
    "# For data preprocess\n",
    "import numpy as np\n",
    "import csv\n",
    "import os\n",
    "\n",
    "# For plotting\n",
    "import matplotlib.pyplot as plt\n",
    "from matplotlib.pyplot import figure\n",
    "\n",
    "myseed = 42069  # set a random seed for reproducibility\n",
    "torch.backends.cudnn.deterministic = True\n",
    "torch.backends.cudnn.benchmark = False\n",
    "np.random.seed(myseed)\n",
    "torch.manual_seed(myseed)\n",
    "if torch.cuda.is_available():\n",
    "    torch.cuda.manual_seed_all(myseed)"
   ]
  },
  {
   "cell_type": "markdown",
   "id": "d3b77ac8",
   "metadata": {
    "id": "BtE3b6JEH7rw",
    "papermill": {
     "duration": 0.007176,
     "end_time": "2023-11-06T08:42:16.076675",
     "exception": false,
     "start_time": "2023-11-06T08:42:16.069499",
     "status": "completed"
    },
    "tags": []
   },
   "source": [
    "# **Some Utilities**\n",
    "\n",
    "You do not need to modify this part."
   ]
  },
  {
   "cell_type": "code",
   "execution_count": 3,
   "id": "1f6f5582",
   "metadata": {
    "execution": {
     "iopub.execute_input": "2023-11-06T08:42:16.093855Z",
     "iopub.status.busy": "2023-11-06T08:42:16.092758Z",
     "iopub.status.idle": "2023-11-06T08:42:16.105840Z",
     "shell.execute_reply": "2023-11-06T08:42:16.104859Z"
    },
    "id": "FWMT3uf1NGQp",
    "papermill": {
     "duration": 0.023986,
     "end_time": "2023-11-06T08:42:16.108011",
     "exception": false,
     "start_time": "2023-11-06T08:42:16.084025",
     "status": "completed"
    },
    "tags": []
   },
   "outputs": [],
   "source": [
    "def get_device():\n",
    "    ''' Get device (if GPU is available, use GPU) '''\n",
    "    return 'cuda' if torch.cuda.is_available() else 'cpu'\n",
    "\n",
    "def plot_learning_curve(loss_record, title=''):\n",
    "    ''' Plot learning curve of your DNN (train & dev loss) '''\n",
    "    total_steps = len(loss_record['train'])\n",
    "    x_1 = range(total_steps)\n",
    "    x_2 = x_1[::len(loss_record['train']) // len(loss_record['dev'])]\n",
    "    figure(figsize=(6, 4))\n",
    "    plt.plot(x_1, loss_record['train'], c='tab:red', label='train')\n",
    "    plt.plot(x_2, loss_record['dev'], c='tab:cyan', label='dev')\n",
    "    plt.ylim(0.0, 5.)\n",
    "    plt.xlabel('Training steps')\n",
    "    plt.ylabel('MSE loss')\n",
    "    plt.title('Learning curve of {}'.format(title))\n",
    "    plt.legend()\n",
    "    plt.show()\n",
    "\n",
    "\n",
    "def plot_pred(dv_set, model, device, lim=35., preds=None, targets=None):\n",
    "    ''' Plot prediction of your DNN '''\n",
    "    if preds is None or targets is None:\n",
    "        model.eval()\n",
    "        preds, targets = [], []\n",
    "        for x, y in dv_set:\n",
    "            x, y = x.to(device), y.to(device)\n",
    "            with torch.no_grad():\n",
    "                pred = model(x)\n",
    "                preds.append(pred.detach().cpu())\n",
    "                targets.append(y.detach().cpu())\n",
    "        preds = torch.cat(preds, dim=0).numpy()\n",
    "        targets = torch.cat(targets, dim=0).numpy()\n",
    "\n",
    "    figure(figsize=(5, 5))\n",
    "    plt.scatter(targets, preds, c='r', alpha=0.5)\n",
    "    plt.plot([-0.2, lim], [-0.2, lim], c='b')\n",
    "    plt.xlim(-0.2, lim)\n",
    "    plt.ylim(-0.2, lim)\n",
    "    plt.xlabel('ground truth value')\n",
    "    plt.ylabel('predicted value')\n",
    "    plt.title('Ground Truth v.s. Prediction')\n",
    "    plt.show()"
   ]
  },
  {
   "cell_type": "markdown",
   "id": "183c6d52",
   "metadata": {
    "id": "39U_XFX6KOoj",
    "papermill": {
     "duration": 0.007282,
     "end_time": "2023-11-06T08:42:16.122893",
     "exception": false,
     "start_time": "2023-11-06T08:42:16.115611",
     "status": "completed"
    },
    "tags": []
   },
   "source": [
    "# **Preprocess**\n",
    "\n",
    "We have three kinds of datasets:\n",
    "* `train`: for training\n",
    "* `dev`: for validation\n",
    "* `test`: for testing (w/o target value)"
   ]
  },
  {
   "cell_type": "markdown",
   "id": "316b53e8",
   "metadata": {
    "id": "TQ-MdwpLL7Dt",
    "papermill": {
     "duration": 0.007128,
     "end_time": "2023-11-06T08:42:16.137316",
     "exception": false,
     "start_time": "2023-11-06T08:42:16.130188",
     "status": "completed"
    },
    "tags": []
   },
   "source": [
    "## **Dataset**\n",
    "\n",
    "The `COVID19Dataset` below does:\n",
    "* read `.csv` files\n",
    "* extract features\n",
    "* split `covid.train.csv` into train/dev sets\n",
    "* normalize features\n",
    "\n",
    "Finishing `TODO` below might make you pass medium baseline."
   ]
  },
  {
   "cell_type": "code",
   "execution_count": 4,
   "id": "21b58fef",
   "metadata": {
    "execution": {
     "iopub.execute_input": "2023-11-06T08:42:16.154256Z",
     "iopub.status.busy": "2023-11-06T08:42:16.153478Z",
     "iopub.status.idle": "2023-11-06T08:42:16.165576Z",
     "shell.execute_reply": "2023-11-06T08:42:16.164482Z"
    },
    "id": "0zlpIp9ANJRU",
    "papermill": {
     "duration": 0.022845,
     "end_time": "2023-11-06T08:42:16.167476",
     "exception": false,
     "start_time": "2023-11-06T08:42:16.144631",
     "status": "completed"
    },
    "tags": []
   },
   "outputs": [],
   "source": [
    "class COVID19Dataset(Dataset):\n",
    "    ''' Dataset for loading and preprocessing the COVID19 dataset '''\n",
    "    def __init__(self,\n",
    "                 path,\n",
    "                 mode='train',\n",
    "                 target_only=False):\n",
    "        self.mode = mode\n",
    "\n",
    "        # Read data into numpy arrays\n",
    "        with open(path, 'r') as fp:\n",
    "            data = list(csv.reader(fp))\n",
    "            data = np.array(data[1:])[:, 1:].astype(float)\n",
    "        \n",
    "        if not target_only:\n",
    "            feats = list(range(93))\n",
    "        else:\n",
    "            # TODO: Using 40 states & 2 tested_positive features (indices = 57 & 75)\n",
    "            pass\n",
    "\n",
    "        if mode == 'test':\n",
    "            # Testing data\n",
    "            # data: 893 x 93 (40 states + day 1 (18) + day 2 (18) + day 3 (17))\n",
    "            data = data[:, feats]\n",
    "            self.data = torch.FloatTensor(data)\n",
    "        else:\n",
    "            # Training data (train/dev sets)\n",
    "            # data: 2700 x 94 (40 states + day 1 (18) + day 2 (18) + day 3 (18))\n",
    "            target = data[:, -1]\n",
    "            data = data[:, feats]\n",
    "            \n",
    "            # Splitting training data into train & dev sets\n",
    "            if mode == 'train':\n",
    "                indices = [i for i in range(len(data)) if i % 10 != 0]\n",
    "            elif mode == 'dev':\n",
    "                indices = [i for i in range(len(data)) if i % 10 == 0]\n",
    "            \n",
    "            # Convert data into PyTorch tensors\n",
    "            self.data = torch.FloatTensor(data[indices])\n",
    "            self.target = torch.FloatTensor(target[indices])\n",
    "\n",
    "        # Normalize features (you may remove this part to see what will happen)\n",
    "        self.data[:, 40:] = \\\n",
    "            (self.data[:, 40:] - self.data[:, 40:].mean(dim=0, keepdim=True)) \\\n",
    "            / self.data[:, 40:].std(dim=0, keepdim=True)\n",
    "\n",
    "        self.dim = self.data.shape[1]\n",
    "\n",
    "        print('Finished reading the {} set of COVID19 Dataset ({} samples found, each dim = {})'\n",
    "              .format(mode, len(self.data), self.dim))\n",
    "\n",
    "    def __getitem__(self, index):\n",
    "        # Returns one sample at a time\n",
    "        if self.mode in ['train', 'dev']:\n",
    "            # For training\n",
    "            return self.data[index], self.target[index]\n",
    "        else:\n",
    "            # For testing (no target)\n",
    "            return self.data[index]\n",
    "\n",
    "    def __len__(self):\n",
    "        # Returns the size of the dataset\n",
    "        return len(self.data)"
   ]
  },
  {
   "cell_type": "markdown",
   "id": "02e46220",
   "metadata": {
    "id": "AlhTlkE7MDo3",
    "papermill": {
     "duration": 0.007212,
     "end_time": "2023-11-06T08:42:16.182342",
     "exception": false,
     "start_time": "2023-11-06T08:42:16.175130",
     "status": "completed"
    },
    "tags": []
   },
   "source": [
    "## **DataLoader**\n",
    "\n",
    "A `DataLoader` loads data from a given `Dataset` into batches.\n"
   ]
  },
  {
   "cell_type": "code",
   "execution_count": 5,
   "id": "2d6e85f6",
   "metadata": {
    "execution": {
     "iopub.execute_input": "2023-11-06T08:42:16.199423Z",
     "iopub.status.busy": "2023-11-06T08:42:16.198674Z",
     "iopub.status.idle": "2023-11-06T08:42:16.204645Z",
     "shell.execute_reply": "2023-11-06T08:42:16.203637Z"
    },
    "id": "hlhLk5t6MBX3",
    "papermill": {
     "duration": 0.016904,
     "end_time": "2023-11-06T08:42:16.206708",
     "exception": false,
     "start_time": "2023-11-06T08:42:16.189804",
     "status": "completed"
    },
    "tags": []
   },
   "outputs": [],
   "source": [
    "def prep_dataloader(path, mode, batch_size, n_jobs=0, target_only=False):\n",
    "    ''' Generates a dataset, then is put into a dataloader. '''\n",
    "    dataset = COVID19Dataset(path, mode=mode, target_only=target_only)  # Construct dataset\n",
    "    dataloader = DataLoader(\n",
    "        dataset, batch_size,\n",
    "        shuffle=(mode == 'train'), drop_last=False,\n",
    "        num_workers=n_jobs, pin_memory=True)                            # Construct dataloader\n",
    "    return dataloader"
   ]
  },
  {
   "cell_type": "markdown",
   "id": "2e66e810",
   "metadata": {
    "id": "SGuycwR0MeQB",
    "papermill": {
     "duration": 0.007038,
     "end_time": "2023-11-06T08:42:16.221232",
     "exception": false,
     "start_time": "2023-11-06T08:42:16.214194",
     "status": "completed"
    },
    "tags": []
   },
   "source": [
    "# **Deep Neural Network**\n",
    "\n",
    "`NeuralNet` is an `nn.Module` designed for regression.\n",
    "The DNN consists of 2 fully-connected layers with ReLU activation.\n",
    "This module also included a function `cal_loss` for calculating loss.\n"
   ]
  },
  {
   "cell_type": "code",
   "execution_count": 6,
   "id": "2a8600b3",
   "metadata": {
    "execution": {
     "iopub.execute_input": "2023-11-06T08:42:16.237747Z",
     "iopub.status.busy": "2023-11-06T08:42:16.237303Z",
     "iopub.status.idle": "2023-11-06T08:42:16.244921Z",
     "shell.execute_reply": "2023-11-06T08:42:16.243674Z"
    },
    "id": "49-uXYovOAI0",
    "papermill": {
     "duration": 0.018551,
     "end_time": "2023-11-06T08:42:16.247188",
     "exception": false,
     "start_time": "2023-11-06T08:42:16.228637",
     "status": "completed"
    },
    "tags": []
   },
   "outputs": [],
   "source": [
    "class NeuralNet(nn.Module):\n",
    "    ''' A simple fully-connected deep neural network '''\n",
    "    def __init__(self, input_dim):\n",
    "        super(NeuralNet, self).__init__()\n",
    "\n",
    "        # Define your neural network here\n",
    "        # TODO: How to modify this model to achieve better performance?\n",
    "        self.net = nn.Sequential(\n",
    "            nn.Linear(input_dim, 64),\n",
    "            nn.ReLU(),\n",
    "            nn.Linear(64, 1)\n",
    "        )\n",
    "\n",
    "        # Mean squared error loss\n",
    "        self.criterion = nn.MSELoss(reduction='mean')\n",
    "\n",
    "    def forward(self, x):\n",
    "        ''' Given input of size (batch_size x input_dim), compute output of the network '''\n",
    "        return self.net(x).squeeze(1)\n",
    "\n",
    "    def cal_loss(self, pred, target):\n",
    "        ''' Calculate loss '''\n",
    "        # TODO: you may implement L1/L2 regularization here\n",
    "        return self.criterion(pred, target)"
   ]
  },
  {
   "cell_type": "markdown",
   "id": "6e1e8d0c",
   "metadata": {
    "id": "DvFWVjZ5Nvga",
    "papermill": {
     "duration": 0.00729,
     "end_time": "2023-11-06T08:42:16.262053",
     "exception": false,
     "start_time": "2023-11-06T08:42:16.254763",
     "status": "completed"
    },
    "tags": []
   },
   "source": [
    "# **Train/Dev/Test**"
   ]
  },
  {
   "cell_type": "markdown",
   "id": "d93d504a",
   "metadata": {
    "id": "MAM8QecJOyqn",
    "papermill": {
     "duration": 0.007092,
     "end_time": "2023-11-06T08:42:16.276515",
     "exception": false,
     "start_time": "2023-11-06T08:42:16.269423",
     "status": "completed"
    },
    "tags": []
   },
   "source": [
    "## **Training**"
   ]
  },
  {
   "cell_type": "code",
   "execution_count": 7,
   "id": "d91b39b5",
   "metadata": {
    "execution": {
     "iopub.execute_input": "2023-11-06T08:42:16.294007Z",
     "iopub.status.busy": "2023-11-06T08:42:16.292940Z",
     "iopub.status.idle": "2023-11-06T08:42:16.303086Z",
     "shell.execute_reply": "2023-11-06T08:42:16.302056Z"
    },
    "id": "lOqcmYzMO7jB",
    "papermill": {
     "duration": 0.020981,
     "end_time": "2023-11-06T08:42:16.304991",
     "exception": false,
     "start_time": "2023-11-06T08:42:16.284010",
     "status": "completed"
    },
    "tags": []
   },
   "outputs": [],
   "source": [
    "def train(tr_set, dv_set, model, config, device):\n",
    "    ''' DNN training '''\n",
    "\n",
    "    n_epochs = config['n_epochs']  # Maximum number of epochs\n",
    "\n",
    "    # Setup optimizer\n",
    "    optimizer = getattr(torch.optim, config['optimizer'])(\n",
    "        model.parameters(), **config['optim_hparas'])\n",
    "\n",
    "    min_mse = 1000.\n",
    "    loss_record = {'train': [], 'dev': []}      # for recording training loss\n",
    "    early_stop_cnt = 0\n",
    "    epoch = 0\n",
    "    while epoch < n_epochs:\n",
    "        model.train()                           # set model to training mode\n",
    "        for x, y in tr_set:                     # iterate through the dataloader\n",
    "            optimizer.zero_grad()               # set gradient to zero\n",
    "            x, y = x.to(device), y.to(device)   # move data to device (cpu/cuda)\n",
    "            pred = model(x)                     # forward pass (compute output)\n",
    "            mse_loss = model.cal_loss(pred, y)  # compute loss\n",
    "            mse_loss.backward()                 # compute gradient (backpropagation)\n",
    "            optimizer.step()                    # update model with optimizer\n",
    "            loss_record['train'].append(mse_loss.detach().cpu().item())\n",
    "\n",
    "        # After each epoch, test your model on the validation (development) set.\n",
    "        dev_mse = dev(dv_set, model, device)\n",
    "        if dev_mse < min_mse:\n",
    "            # Save model if your model improved\n",
    "            min_mse = dev_mse\n",
    "            print('Saving model (epoch = {:4d}, loss = {:.4f})'\n",
    "                .format(epoch + 1, min_mse))\n",
    "            torch.save(model.state_dict(), config['save_path'])  # Save model to specified path\n",
    "            early_stop_cnt = 0\n",
    "        else:\n",
    "            early_stop_cnt += 1\n",
    "\n",
    "        epoch += 1\n",
    "        loss_record['dev'].append(dev_mse)\n",
    "        if early_stop_cnt > config['early_stop']:\n",
    "            # Stop training if your model stops improving for \"config['early_stop']\" epochs.\n",
    "            break\n",
    "\n",
    "    print('Finished training after {} epochs'.format(epoch))\n",
    "    return min_mse, loss_record"
   ]
  },
  {
   "cell_type": "markdown",
   "id": "3fc8eb60",
   "metadata": {
    "id": "0hSd4Bn3O2PL",
    "papermill": {
     "duration": 0.007232,
     "end_time": "2023-11-06T08:42:16.319656",
     "exception": false,
     "start_time": "2023-11-06T08:42:16.312424",
     "status": "completed"
    },
    "tags": []
   },
   "source": [
    "## **Validation**"
   ]
  },
  {
   "cell_type": "code",
   "execution_count": 8,
   "id": "4c53e931",
   "metadata": {
    "execution": {
     "iopub.execute_input": "2023-11-06T08:42:16.336295Z",
     "iopub.status.busy": "2023-11-06T08:42:16.335865Z",
     "iopub.status.idle": "2023-11-06T08:42:16.342074Z",
     "shell.execute_reply": "2023-11-06T08:42:16.341224Z"
    },
    "id": "yrxrD3YsN3U2",
    "papermill": {
     "duration": 0.017028,
     "end_time": "2023-11-06T08:42:16.344033",
     "exception": false,
     "start_time": "2023-11-06T08:42:16.327005",
     "status": "completed"
    },
    "tags": []
   },
   "outputs": [],
   "source": [
    "def dev(dv_set, model, device):\n",
    "    model.eval()                                # set model to evalutation mode\n",
    "    total_loss = 0\n",
    "    for x, y in dv_set:                         # iterate through the dataloader\n",
    "        x, y = x.to(device), y.to(device)       # move data to device (cpu/cuda)\n",
    "        with torch.no_grad():                   # disable gradient calculation\n",
    "            pred = model(x)                     # forward pass (compute output)\n",
    "            mse_loss = model.cal_loss(pred, y)  # compute loss\n",
    "        total_loss += mse_loss.detach().cpu().item() * len(x)  # accumulate loss\n",
    "    total_loss = total_loss / len(dv_set.dataset)              # compute averaged loss\n",
    "\n",
    "    return total_loss"
   ]
  },
  {
   "cell_type": "markdown",
   "id": "dc9aff39",
   "metadata": {
    "id": "g0pdrhQAO41L",
    "papermill": {
     "duration": 0.007147,
     "end_time": "2023-11-06T08:42:16.358821",
     "exception": false,
     "start_time": "2023-11-06T08:42:16.351674",
     "status": "completed"
    },
    "tags": []
   },
   "source": [
    "## **Testing**"
   ]
  },
  {
   "cell_type": "code",
   "execution_count": 9,
   "id": "64e7cf3a",
   "metadata": {
    "execution": {
     "iopub.execute_input": "2023-11-06T08:42:16.376014Z",
     "iopub.status.busy": "2023-11-06T08:42:16.375205Z",
     "iopub.status.idle": "2023-11-06T08:42:16.381406Z",
     "shell.execute_reply": "2023-11-06T08:42:16.380160Z"
    },
    "id": "aSBMRFlYN5tB",
    "papermill": {
     "duration": 0.0176,
     "end_time": "2023-11-06T08:42:16.383814",
     "exception": false,
     "start_time": "2023-11-06T08:42:16.366214",
     "status": "completed"
    },
    "tags": []
   },
   "outputs": [],
   "source": [
    "def test(tt_set, model, device):\n",
    "    model.eval()                                # set model to evalutation mode\n",
    "    preds = []\n",
    "    for x in tt_set:                            # iterate through the dataloader\n",
    "        x = x.to(device)                        # move data to device (cpu/cuda)\n",
    "        with torch.no_grad():                   # disable gradient calculation\n",
    "            pred = model(x)                     # forward pass (compute output)\n",
    "            preds.append(pred.detach().cpu())   # collect prediction\n",
    "    preds = torch.cat(preds, dim=0).numpy()     # concatenate all predictions and convert to a numpy array\n",
    "    return preds"
   ]
  },
  {
   "cell_type": "markdown",
   "id": "2013f395",
   "metadata": {
    "id": "SvckkF5dvf0j",
    "papermill": {
     "duration": 0.007018,
     "end_time": "2023-11-06T08:42:16.398345",
     "exception": false,
     "start_time": "2023-11-06T08:42:16.391327",
     "status": "completed"
    },
    "tags": []
   },
   "source": [
    "# **Setup Hyper-parameters**\n",
    "\n",
    "`config` contains hyper-parameters for training and the path to save your model."
   ]
  },
  {
   "cell_type": "code",
   "execution_count": 10,
   "id": "7dd800b2",
   "metadata": {
    "execution": {
     "iopub.execute_input": "2023-11-06T08:42:16.414661Z",
     "iopub.status.busy": "2023-11-06T08:42:16.414218Z",
     "iopub.status.idle": "2023-11-06T08:42:16.420648Z",
     "shell.execute_reply": "2023-11-06T08:42:16.419738Z"
    },
    "id": "NPXpdumwPjE7",
    "papermill": {
     "duration": 0.016962,
     "end_time": "2023-11-06T08:42:16.422630",
     "exception": false,
     "start_time": "2023-11-06T08:42:16.405668",
     "status": "completed"
    },
    "tags": []
   },
   "outputs": [],
   "source": [
    "device = get_device()                 # get the current available device ('cpu' or 'cuda')\n",
    "os.makedirs('models', exist_ok=True)  # The trained model will be saved to ./models/\n",
    "target_only = False                   # TODO: Using 40 states & 2 tested_positive features\n",
    "\n",
    "# TODO: How to tune these hyper-parameters to improve your model's performance?\n",
    "config = {\n",
    "    'n_epochs': 3000,                # maximum number of epochs\n",
    "    'batch_size': 270,               # mini-batch size for dataloader\n",
    "    'optimizer': 'SGD',              # optimization algorithm (optimizer in torch.optim)\n",
    "    'optim_hparas': {                # hyper-parameters for the optimizer (depends on which optimizer you are using)\n",
    "        'lr': 0.001,                 # learning rate of SGD\n",
    "        'momentum': 0.9              # momentum for SGD\n",
    "    },\n",
    "    'early_stop': 200,               # early stopping epochs (the number epochs since your model's last improvement)\n",
    "    'save_path': 'models/model.pth'  # your model will be saved here\n",
    "}"
   ]
  },
  {
   "cell_type": "markdown",
   "id": "b98db922",
   "metadata": {
    "id": "6j1eOV3TOH-j",
    "papermill": {
     "duration": 0.007074,
     "end_time": "2023-11-06T08:42:16.437090",
     "exception": false,
     "start_time": "2023-11-06T08:42:16.430016",
     "status": "completed"
    },
    "tags": []
   },
   "source": [
    "# **Load data and model**"
   ]
  },
  {
   "cell_type": "code",
   "execution_count": 11,
   "id": "55b49595",
   "metadata": {
    "execution": {
     "iopub.execute_input": "2023-11-06T08:42:16.454039Z",
     "iopub.status.busy": "2023-11-06T08:42:16.452963Z",
     "iopub.status.idle": "2023-11-06T08:42:17.029301Z",
     "shell.execute_reply": "2023-11-06T08:42:17.028089Z"
    },
    "id": "eNrYBMmePLKm",
    "outputId": "fcd4f175-4f7e-4306-f33c-5f8285f11dce",
    "papermill": {
     "duration": 0.587458,
     "end_time": "2023-11-06T08:42:17.031820",
     "exception": false,
     "start_time": "2023-11-06T08:42:16.444362",
     "status": "completed"
    },
    "tags": []
   },
   "outputs": [
    {
     "name": "stdout",
     "output_type": "stream",
     "text": [
      "Finished reading the train set of COVID19 Dataset (2430 samples found, each dim = 93)\n",
      "Finished reading the dev set of COVID19 Dataset (270 samples found, each dim = 93)\n",
      "Finished reading the test set of COVID19 Dataset (893 samples found, each dim = 93)\n"
     ]
    }
   ],
   "source": [
    "tr_set = prep_dataloader(tr_path, 'train', config['batch_size'], target_only=target_only)\n",
    "dv_set = prep_dataloader(tr_path, 'dev', config['batch_size'], target_only=target_only)\n",
    "tt_set = prep_dataloader(tt_path, 'test', config['batch_size'], target_only=target_only)"
   ]
  },
  {
   "cell_type": "code",
   "execution_count": 12,
   "id": "ba457e36",
   "metadata": {
    "execution": {
     "iopub.execute_input": "2023-11-06T08:42:17.049491Z",
     "iopub.status.busy": "2023-11-06T08:42:17.049081Z",
     "iopub.status.idle": "2023-11-06T08:42:17.064146Z",
     "shell.execute_reply": "2023-11-06T08:42:17.063135Z"
    },
    "id": "FHylSirLP9oh",
    "papermill": {
     "duration": 0.026404,
     "end_time": "2023-11-06T08:42:17.066463",
     "exception": false,
     "start_time": "2023-11-06T08:42:17.040059",
     "status": "completed"
    },
    "tags": []
   },
   "outputs": [],
   "source": [
    "model = NeuralNet(tr_set.dataset.dim).to(device)  # Construct model and move to device"
   ]
  },
  {
   "cell_type": "markdown",
   "id": "3f6d6d35",
   "metadata": {
    "id": "sX2B_zgSOPTJ",
    "papermill": {
     "duration": 0.007398,
     "end_time": "2023-11-06T08:42:17.081524",
     "exception": false,
     "start_time": "2023-11-06T08:42:17.074126",
     "status": "completed"
    },
    "tags": []
   },
   "source": [
    "# **Start Training!**"
   ]
  },
  {
   "cell_type": "code",
   "execution_count": 13,
   "id": "1274cce2",
   "metadata": {
    "execution": {
     "iopub.execute_input": "2023-11-06T08:42:17.098399Z",
     "iopub.status.busy": "2023-11-06T08:42:17.097954Z",
     "iopub.status.idle": "2023-11-06T08:42:54.293590Z",
     "shell.execute_reply": "2023-11-06T08:42:54.292379Z"
    },
    "id": "GrEbUxazQAAZ",
    "outputId": "f4f3bd74-2d97-4275-b69f-6609976b91f9",
    "papermill": {
     "duration": 37.207179,
     "end_time": "2023-11-06T08:42:54.296237",
     "exception": false,
     "start_time": "2023-11-06T08:42:17.089058",
     "status": "completed"
    },
    "tags": []
   },
   "outputs": [
    {
     "name": "stdout",
     "output_type": "stream",
     "text": [
      "Saving model (epoch =    1, loss = 78.8524)\n",
      "Saving model (epoch =    2, loss = 37.6170)\n",
      "Saving model (epoch =    3, loss = 26.1203)\n",
      "Saving model (epoch =    4, loss = 16.1862)\n",
      "Saving model (epoch =    5, loss = 9.7153)\n",
      "Saving model (epoch =    6, loss = 6.3701)\n",
      "Saving model (epoch =    7, loss = 5.1802)\n",
      "Saving model (epoch =    8, loss = 4.4255)\n",
      "Saving model (epoch =    9, loss = 3.8009)\n",
      "Saving model (epoch =   10, loss = 3.3691)\n",
      "Saving model (epoch =   11, loss = 3.0943)\n",
      "Saving model (epoch =   12, loss = 2.8176)\n",
      "Saving model (epoch =   13, loss = 2.6274)\n",
      "Saving model (epoch =   14, loss = 2.4542)\n",
      "Saving model (epoch =   15, loss = 2.3012)\n",
      "Saving model (epoch =   16, loss = 2.1766)\n",
      "Saving model (epoch =   17, loss = 2.0641)\n",
      "Saving model (epoch =   18, loss = 1.9399)\n",
      "Saving model (epoch =   19, loss = 1.8978)\n",
      "Saving model (epoch =   20, loss = 1.7950)\n",
      "Saving model (epoch =   21, loss = 1.7164)\n",
      "Saving model (epoch =   22, loss = 1.6455)\n",
      "Saving model (epoch =   23, loss = 1.5912)\n",
      "Saving model (epoch =   24, loss = 1.5599)\n",
      "Saving model (epoch =   25, loss = 1.5197)\n",
      "Saving model (epoch =   26, loss = 1.4698)\n",
      "Saving model (epoch =   27, loss = 1.4189)\n",
      "Saving model (epoch =   28, loss = 1.3992)\n",
      "Saving model (epoch =   29, loss = 1.3696)\n",
      "Saving model (epoch =   30, loss = 1.3442)\n",
      "Saving model (epoch =   31, loss = 1.3231)\n",
      "Saving model (epoch =   32, loss = 1.2834)\n",
      "Saving model (epoch =   33, loss = 1.2804)\n",
      "Saving model (epoch =   34, loss = 1.2471)\n",
      "Saving model (epoch =   36, loss = 1.2414)\n",
      "Saving model (epoch =   37, loss = 1.2138)\n",
      "Saving model (epoch =   38, loss = 1.2083)\n",
      "Saving model (epoch =   41, loss = 1.1591)\n",
      "Saving model (epoch =   42, loss = 1.1484)\n",
      "Saving model (epoch =   44, loss = 1.1209)\n",
      "Saving model (epoch =   47, loss = 1.1122)\n",
      "Saving model (epoch =   48, loss = 1.0937)\n",
      "Saving model (epoch =   50, loss = 1.0842)\n",
      "Saving model (epoch =   53, loss = 1.0654)\n",
      "Saving model (epoch =   54, loss = 1.0613)\n",
      "Saving model (epoch =   57, loss = 1.0525)\n",
      "Saving model (epoch =   58, loss = 1.0395)\n",
      "Saving model (epoch =   60, loss = 1.0265)\n",
      "Saving model (epoch =   63, loss = 1.0248)\n",
      "Saving model (epoch =   66, loss = 1.0098)\n",
      "Saving model (epoch =   70, loss = 0.9828)\n",
      "Saving model (epoch =   72, loss = 0.9813)\n",
      "Saving model (epoch =   73, loss = 0.9740)\n",
      "Saving model (epoch =   75, loss = 0.9672)\n",
      "Saving model (epoch =   78, loss = 0.9642)\n",
      "Saving model (epoch =   79, loss = 0.9594)\n",
      "Saving model (epoch =   85, loss = 0.9544)\n",
      "Saving model (epoch =   86, loss = 0.9528)\n",
      "Saving model (epoch =   90, loss = 0.9464)\n",
      "Saving model (epoch =   92, loss = 0.9432)\n",
      "Saving model (epoch =   93, loss = 0.9230)\n",
      "Saving model (epoch =   95, loss = 0.9126)\n",
      "Saving model (epoch =  104, loss = 0.9117)\n",
      "Saving model (epoch =  107, loss = 0.8998)\n",
      "Saving model (epoch =  110, loss = 0.8940)\n",
      "Saving model (epoch =  116, loss = 0.8890)\n",
      "Saving model (epoch =  124, loss = 0.8874)\n",
      "Saving model (epoch =  128, loss = 0.8729)\n",
      "Saving model (epoch =  134, loss = 0.8728)\n",
      "Saving model (epoch =  139, loss = 0.8681)\n",
      "Saving model (epoch =  146, loss = 0.8655)\n",
      "Saving model (epoch =  156, loss = 0.8645)\n",
      "Saving model (epoch =  159, loss = 0.8532)\n",
      "Saving model (epoch =  167, loss = 0.8503)\n",
      "Saving model (epoch =  173, loss = 0.8493)\n",
      "Saving model (epoch =  176, loss = 0.8463)\n",
      "Saving model (epoch =  178, loss = 0.8415)\n",
      "Saving model (epoch =  182, loss = 0.8380)\n",
      "Saving model (epoch =  199, loss = 0.8302)\n",
      "Saving model (epoch =  202, loss = 0.8301)\n",
      "Saving model (epoch =  212, loss = 0.8279)\n",
      "Saving model (epoch =  235, loss = 0.8254)\n",
      "Saving model (epoch =  238, loss = 0.8236)\n",
      "Saving model (epoch =  251, loss = 0.8213)\n",
      "Saving model (epoch =  253, loss = 0.8207)\n",
      "Saving model (epoch =  255, loss = 0.8205)\n",
      "Saving model (epoch =  258, loss = 0.8179)\n",
      "Saving model (epoch =  284, loss = 0.8147)\n",
      "Saving model (epoch =  308, loss = 0.8137)\n",
      "Saving model (epoch =  312, loss = 0.8080)\n",
      "Saving model (epoch =  324, loss = 0.8050)\n",
      "Saving model (epoch =  359, loss = 0.8048)\n",
      "Saving model (epoch =  400, loss = 0.8039)\n",
      "Saving model (epoch =  404, loss = 0.8013)\n",
      "Saving model (epoch =  466, loss = 0.7997)\n",
      "Saving model (epoch =  525, loss = 0.7992)\n",
      "Saving model (epoch =  561, loss = 0.7951)\n",
      "Saving model (epoch =  584, loss = 0.7904)\n",
      "Saving model (epoch =  667, loss = 0.7891)\n",
      "Saving model (epoch =  717, loss = 0.7822)\n",
      "Saving model (epoch =  776, loss = 0.7808)\n",
      "Saving model (epoch =  835, loss = 0.7805)\n",
      "Saving model (epoch =  866, loss = 0.7770)\n",
      "Saving model (epoch =  933, loss = 0.7755)\n",
      "Saving model (epoch =  965, loss = 0.7713)\n",
      "Saving model (epoch = 1027, loss = 0.7686)\n",
      "Saving model (epoch = 1119, loss = 0.7666)\n",
      "Saving model (epoch = 1140, loss = 0.7656)\n",
      "Saving model (epoch = 1196, loss = 0.7615)\n",
      "Saving model (epoch = 1234, loss = 0.7610)\n",
      "Saving model (epoch = 1243, loss = 0.7576)\n",
      "Finished training after 1444 epochs\n"
     ]
    }
   ],
   "source": [
    "model_loss, model_loss_record = train(tr_set, dv_set, model, config, device)"
   ]
  },
  {
   "cell_type": "code",
   "execution_count": 14,
   "id": "4a603c12",
   "metadata": {
    "execution": {
     "iopub.execute_input": "2023-11-06T08:42:54.319459Z",
     "iopub.status.busy": "2023-11-06T08:42:54.319015Z",
     "iopub.status.idle": "2023-11-06T08:42:54.651564Z",
     "shell.execute_reply": "2023-11-06T08:42:54.650408Z"
    },
    "id": "hsNO9nnXQBvP",
    "outputId": "1626def6-94c7-4a87-9447-d939f827c8eb",
    "papermill": {
     "duration": 0.34724,
     "end_time": "2023-11-06T08:42:54.654130",
     "exception": false,
     "start_time": "2023-11-06T08:42:54.306890",
     "status": "completed"
    },
    "tags": []
   },
   "outputs": [
    {
     "data": {
      "image/png": "[encoded data removed]",
      "text/plain": [
       "<Figure size 600x400 with 1 Axes>"
      ]
     },
     "metadata": {},
     "output_type": "display_data"
    }
   ],
   "source": [
    "plot_learning_curve(model_loss_record, title='deep model')"
   ]
  },
  {
   "cell_type": "code",
   "execution_count": 15,
   "id": "8d52b23d",
   "metadata": {
    "execution": {
     "iopub.execute_input": "2023-11-06T08:42:54.760644Z",
     "iopub.status.busy": "2023-11-06T08:42:54.759705Z",
     "iopub.status.idle": "2023-11-06T08:42:55.045797Z",
     "shell.execute_reply": "2023-11-06T08:42:55.044623Z"
    },
    "id": "3iZTVn5WQFpX",
    "outputId": "a2d5e118-559d-45c6-b644-6792af54663d",
    "papermill": {
     "duration": 0.383068,
     "end_time": "2023-11-06T08:42:55.048387",
     "exception": false,
     "start_time": "2023-11-06T08:42:54.665319",
     "status": "completed"
    },
    "tags": []
   },
   "outputs": [
    {
     "data": {
      "image/png": "[encoded data removed]",
      "text/plain": [
       "<Figure size 500x500 with 1 Axes>"
      ]
     },
     "metadata": {},
     "output_type": "display_data"
    }
   ],
   "source": [
    "del model\n",
    "model = NeuralNet(tr_set.dataset.dim).to(device)\n",
    "ckpt = torch.load(config['save_path'], map_location='cpu')  # Load your best model\n",
    "model.load_state_dict(ckpt)\n",
    "plot_pred(dv_set, model, device)  # Show prediction on the validation set"
   ]
  },
  {
   "cell_type": "markdown",
   "id": "e2b86584",
   "metadata": {
    "id": "aQikz3IPiyPf",
    "papermill": {
     "duration": 0.011852,
     "end_time": "2023-11-06T08:42:55.072568",
     "exception": false,
     "start_time": "2023-11-06T08:42:55.060716",
     "status": "completed"
    },
    "tags": []
   },
   "source": [
    "# **Testing**\n",
    "The predictions of your model on testing set will be stored at `pred.csv`."
   ]
  },
  {
   "cell_type": "code",
   "execution_count": 16,
   "id": "25867d0d",
   "metadata": {
    "execution": {
     "iopub.execute_input": "2023-11-06T08:42:55.098657Z",
     "iopub.status.busy": "2023-11-06T08:42:55.098200Z",
     "iopub.status.idle": "2023-11-06T08:42:55.115789Z",
     "shell.execute_reply": "2023-11-06T08:42:55.114868Z"
    },
    "id": "O8cTuQjQQOon",
    "outputId": "6bc5de07-4c5a-4e87-9ae3-d09f539c5f2c",
    "papermill": {
     "duration": 0.033425,
     "end_time": "2023-11-06T08:42:55.118055",
     "exception": false,
     "start_time": "2023-11-06T08:42:55.084630",
     "status": "completed"
    },
    "tags": []
   },
   "outputs": [
    {
     "name": "stdout",
     "output_type": "stream",
     "text": [
      "Saving results to pred.csv\n"
     ]
    }
   ],
   "source": [
    "def save_pred(preds, file):\n",
    "    ''' Save predictions to specified file '''\n",
    "    print('Saving results to {}'.format(file))\n",
    "    with open(file, 'w') as fp:\n",
    "        writer = csv.writer(fp)\n",
    "        writer.writerow(['id', 'tested_positive'])\n",
    "        for i, p in enumerate(preds):\n",
    "            writer.writerow([i, p])\n",
    "\n",
    "preds = test(tt_set, model, device)  # predict COVID-19 cases with your model\n",
    "save_pred(preds, 'pred.csv')         # save prediction file to pred.csv"
   ]
  },
  {
   "cell_type": "markdown",
   "id": "3fe9e3c5",
   "metadata": {
    "id": "nfrVxqJanGpE",
    "papermill": {
     "duration": 0.011961,
     "end_time": "2023-11-06T08:42:55.142445",
     "exception": false,
     "start_time": "2023-11-06T08:42:55.130484",
     "status": "completed"
    },
    "tags": []
   },
   "source": [
    "# **Hints**\n",
    "\n",
    "## **Simple Baseline**\n",
    "* Run sample code\n",
    "\n",
    "## **Medium Baseline**\n",
    "* Feature selection: 40 states + 2 `tested_positive` (`TODO` in dataset)\n",
    "\n",
    "## **Strong Baseline**\n",
    "* Feature selection (what other features are useful?)\n",
    "* DNN architecture (layers? dimension? activation function?)\n",
    "* Training (mini-batch? optimizer? learning rate?)\n",
    "* L2 regularization\n",
    "* There are some mistakes in the sample code, can you find them?"
   ]
  },
  {
   "cell_type": "markdown",
   "id": "ab8b1511",
   "metadata": {
    "id": "9tmCwXgpot3t",
    "papermill": {
     "duration": 0.01166,
     "end_time": "2023-11-06T08:42:55.166104",
     "exception": false,
     "start_time": "2023-11-06T08:42:55.154444",
     "status": "completed"
    },
    "tags": []
   },
   "source": [
    "# **Reference**\n",
    "This code is completely written by Heng-Jui Chang @ NTUEE.  \n",
    "Copying or reusing this code is required to specify the original author. \n",
    "\n",
    "E.g.  \n",
    "Source: Heng-Jui Chang @ NTUEE (https://github.com/ga642381/ML2021-Spring/blob/main/HW01/HW01.ipynb)\n"
   ]
  }
 ],
 "metadata": {
  "kernelspec": {
   "display_name": "Python 3",
   "language": "python",
   "name": "python3"
  },
  "language_info": {
   "codemirror_mode": {
    "name": "ipython",
    "version": 3
   },
   "file_extension": ".py",
   "mimetype": "text/x-python",
   "name": "python",
   "nbconvert_exporter": "python",
   "pygments_lexer": "ipython3",
   "version": "3.10.12"
  },
  "papermill": {
   "default_parameters": {},
   "duration": 46.497687,
   "end_time": "2023-11-06T08:42:56.100974",
   "environment_variables": {},
   "exception": null,
   "input_path": "__notebook__.ipynb",
   "output_path": "__notebook__.ipynb",
   "parameters": {},
   "start_time": "2023-11-06T08:42:09.603287",
   "version": "2.4.0"
  }
 },
 "nbformat": 4,
 "nbformat_minor": 5
}
